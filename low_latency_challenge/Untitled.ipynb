{
 "cells": [
  {
   "cell_type": "code",
   "execution_count": 2,
   "metadata": {},
   "outputs": [],
   "source": [
    "import pandas as pd\n",
    "import numpy as np\n",
    "import seaborn as sns\n",
    "import matplotlib.pyplot as plt\n",
    "import datetime\n",
    "import numpy as np\n",
    "from scipy.stats import norm\n",
    "import random\n",
    "from sklearn import preprocessing\n",
    "from sklearn.ensemble import RandomForestClassifier\n",
    "from sklearn.linear_model import LogisticRegression\n",
    "from sklearn import svm\n",
    "from sklearn.model_selection import train_test_split\n",
    "from sklearn.metrics import confusion_matrix, classification_report\n",
    "import lightgbm as lgbm\n",
    "from sklearn.neighbors import KNeighborsClassifier"
   ]
  },
  {
   "cell_type": "code",
   "execution_count": 3,
   "metadata": {},
   "outputs": [],
   "source": [
    "df = pd.read_csv('LatencyTraining.csv')"
   ]
  },
  {
   "cell_type": "code",
   "execution_count": 4,
   "metadata": {},
   "outputs": [
    {
     "data": {
      "text/html": [
       "<div>\n",
       "<style scoped>\n",
       "    .dataframe tbody tr th:only-of-type {\n",
       "        vertical-align: middle;\n",
       "    }\n",
       "\n",
       "    .dataframe tbody tr th {\n",
       "        vertical-align: top;\n",
       "    }\n",
       "\n",
       "    .dataframe thead th {\n",
       "        text-align: right;\n",
       "    }\n",
       "</style>\n",
       "<table border=\"1\" class=\"dataframe\">\n",
       "  <thead>\n",
       "    <tr style=\"text-align: right;\">\n",
       "      <th></th>\n",
       "      <th>Unnamed: 0</th>\n",
       "      <th>LogReturns</th>\n",
       "    </tr>\n",
       "  </thead>\n",
       "  <tbody>\n",
       "    <tr>\n",
       "      <td>0</td>\n",
       "      <td>0</td>\n",
       "      <td>-0.002192</td>\n",
       "    </tr>\n",
       "    <tr>\n",
       "      <td>1</td>\n",
       "      <td>1</td>\n",
       "      <td>0.009342</td>\n",
       "    </tr>\n",
       "    <tr>\n",
       "      <td>2</td>\n",
       "      <td>2</td>\n",
       "      <td>0.012838</td>\n",
       "    </tr>\n",
       "    <tr>\n",
       "      <td>3</td>\n",
       "      <td>3</td>\n",
       "      <td>0.003451</td>\n",
       "    </tr>\n",
       "    <tr>\n",
       "      <td>4</td>\n",
       "      <td>4</td>\n",
       "      <td>0.004386</td>\n",
       "    </tr>\n",
       "    <tr>\n",
       "      <td>...</td>\n",
       "      <td>...</td>\n",
       "      <td>...</td>\n",
       "    </tr>\n",
       "    <tr>\n",
       "      <td>1821</td>\n",
       "      <td>1821</td>\n",
       "      <td>-0.000256</td>\n",
       "    </tr>\n",
       "    <tr>\n",
       "      <td>1822</td>\n",
       "      <td>1822</td>\n",
       "      <td>0.005807</td>\n",
       "    </tr>\n",
       "    <tr>\n",
       "      <td>1823</td>\n",
       "      <td>1823</td>\n",
       "      <td>-0.024478</td>\n",
       "    </tr>\n",
       "    <tr>\n",
       "      <td>1824</td>\n",
       "      <td>1824</td>\n",
       "      <td>-0.021754</td>\n",
       "    </tr>\n",
       "    <tr>\n",
       "      <td>1825</td>\n",
       "      <td>1825</td>\n",
       "      <td>0.021624</td>\n",
       "    </tr>\n",
       "  </tbody>\n",
       "</table>\n",
       "<p>1826 rows × 2 columns</p>\n",
       "</div>"
      ],
      "text/plain": [
       "      Unnamed: 0  LogReturns\n",
       "0              0   -0.002192\n",
       "1              1    0.009342\n",
       "2              2    0.012838\n",
       "3              3    0.003451\n",
       "4              4    0.004386\n",
       "...          ...         ...\n",
       "1821        1821   -0.000256\n",
       "1822        1822    0.005807\n",
       "1823        1823   -0.024478\n",
       "1824        1824   -0.021754\n",
       "1825        1825    0.021624\n",
       "\n",
       "[1826 rows x 2 columns]"
      ]
     },
     "execution_count": 4,
     "metadata": {},
     "output_type": "execute_result"
    }
   ],
   "source": [
    "df"
   ]
  },
  {
   "cell_type": "code",
   "execution_count": 5,
   "metadata": {},
   "outputs": [
    {
     "data": {
      "text/plain": [
       "[<matplotlib.lines.Line2D at 0x1a172a37d0>]"
      ]
     },
     "execution_count": 5,
     "metadata": {},
     "output_type": "execute_result"
    },
    {
     "data": {
      "image/png": "[encoded data removed]",
      "text/plain": [
       "<Figure size 432x288 with 1 Axes>"
      ]
     },
     "metadata": {
      "needs_background": "light"
     },
     "output_type": "display_data"
    }
   ],
   "source": [
    "plt.plot(df.LogReturns)"
   ]
  },
  {
   "cell_type": "markdown",
   "metadata": {},
   "source": [
    "## MODELS"
   ]
  },
  {
   "cell_type": "code",
   "execution_count": 6,
   "metadata": {},
   "outputs": [
    {
     "data": {
      "text/plain": [
       "KNeighborsClassifier(n_neighbors=100)"
      ]
     },
     "execution_count": 6,
     "metadata": {},
     "output_type": "execute_result"
    }
   ],
   "source": [
    "windowsize=500 # windowsize input \n",
    "K=100 # K parameter for KNN algorithm  \n",
    "\n",
    "# load training data\n",
    "data = list(df['LogReturns'])\n",
    "\n",
    "# convert time series into training examples\n",
    "x = []\n",
    "y = []\n",
    "for i in range(len(data)-windowsize):\n",
    "    x.append(data[i:i+windowsize])\n",
    "    if data[i + windowsize] > data[i + windowsize - 1]:\n",
    "        y.append(1)\n",
    "    else:\n",
    "        y.append(0)\n",
    "    \n",
    "x_train, x_test, y_train, y_test = train_test_split(x, y, test_size=0.2, shuffle=False)\n",
    "\n",
    "# declare and train classifier\n",
    "classifier=KNeighborsClassifier(n_neighbors=K)\n",
    "classifier.fit(x_train, y_train)\n",
    "\n",
    "# classify terminal input\n",
    "# for line in stdin:\n",
    "#     if line == '': \n",
    "#         break\n",
    "#     d=[float(x) for x in line.split(',')]\n",
    "#     print(classifier.predict([d])[0])"
   ]
  },
  {
   "cell_type": "code",
   "execution_count": 7,
   "metadata": {},
   "outputs": [
    {
     "name": "stdout",
     "output_type": "stream",
     "text": [
      "0.6018867924528302\n",
      "0.5488721804511278\n"
     ]
    }
   ],
   "source": [
    "print(classifier.score(x_train, y_train))\n",
    "print(classifier.score(x_test, y_test))"
   ]
  },
  {
   "cell_type": "markdown",
   "metadata": {},
   "source": [
    "## LGBM classifier"
   ]
  },
  {
   "cell_type": "code",
   "execution_count": 11,
   "metadata": {
    "scrolled": true
   },
   "outputs": [
    {
     "name": "stdout",
     "output_type": "stream",
     "text": [
      "[LightGBM] [Warning] Auto-choosing col-wise multi-threading, the overhead of testing was 0.021877 seconds.\n",
      "You can set `force_col_wise=true` to remove the overhead.\n",
      "[LightGBM] [Warning] No further splits with positive gain, best gain: -inf\n",
      "[1]\tvalid_0's auc: 0.742885\n",
      "[LightGBM] [Warning] No further splits with positive gain, best gain: -inf\n",
      "[2]\tvalid_0's auc: 0.730726\n",
      "[LightGBM] [Warning] No further splits with positive gain, best gain: -inf\n",
      "[3]\tvalid_0's auc: 0.758872\n",
      "[LightGBM] [Warning] No further splits with positive gain, best gain: -inf\n",
      "[4]\tvalid_0's auc: 0.7661\n",
      "[LightGBM] [Warning] No further splits with positive gain, best gain: -inf\n",
      "[5]\tvalid_0's auc: 0.78288\n",
      "[LightGBM] [Warning] No further splits with positive gain, best gain: -inf\n",
      "[6]\tvalid_0's auc: 0.782115\n",
      "[LightGBM] [Warning] No further splits with positive gain, best gain: -inf\n",
      "[7]\tvalid_0's auc: 0.789626\n",
      "[LightGBM] [Warning] No further splits with positive gain, best gain: -inf\n",
      "[8]\tvalid_0's auc: 0.798101\n",
      "[LightGBM] [Warning] No further splits with positive gain, best gain: -inf\n",
      "[9]\tvalid_0's auc: 0.802098\n",
      "[LightGBM] [Warning] No further splits with positive gain, best gain: -inf\n",
      "[10]\tvalid_0's auc: 0.805215\n",
      "[LightGBM] [Warning] No further splits with positive gain, best gain: -inf\n",
      "[11]\tvalid_0's auc: 0.805981\n",
      "[LightGBM] [Warning] No further splits with positive gain, best gain: -inf\n",
      "[12]\tvalid_0's auc: 0.808022\n",
      "[LightGBM] [Warning] No further splits with positive gain, best gain: -inf\n",
      "[13]\tvalid_0's auc: 0.808588\n",
      "[LightGBM] [Warning] No further splits with positive gain, best gain: -inf\n",
      "[14]\tvalid_0's auc: 0.808305\n",
      "[LightGBM] [Warning] No further splits with positive gain, best gain: -inf\n",
      "[15]\tvalid_0's auc: 0.806689\n",
      "[LightGBM] [Warning] No further splits with positive gain, best gain: -inf\n",
      "[16]\tvalid_0's auc: 0.80788\n",
      "[LightGBM] [Warning] No further splits with positive gain, best gain: -inf\n",
      "[17]\tvalid_0's auc: 0.810941\n",
      "[LightGBM] [Warning] No further splits with positive gain, best gain: -inf\n",
      "[18]\tvalid_0's auc: 0.810431\n",
      "[LightGBM] [Warning] No further splits with positive gain, best gain: -inf\n",
      "[19]\tvalid_0's auc: 0.812075\n",
      "[LightGBM] [Warning] No further splits with positive gain, best gain: -inf\n",
      "[20]\tvalid_0's auc: 0.811281\n",
      "[LightGBM] [Warning] No further splits with positive gain, best gain: -inf\n",
      "[21]\tvalid_0's auc: 0.812868\n",
      "[LightGBM] [Warning] No further splits with positive gain, best gain: -inf\n",
      "[22]\tvalid_0's auc: 0.815136\n",
      "[LightGBM] [Warning] No further splits with positive gain, best gain: -inf\n",
      "[23]\tvalid_0's auc: 0.819388\n",
      "[LightGBM] [Warning] No further splits with positive gain, best gain: -inf\n",
      "[24]\tvalid_0's auc: 0.821259\n",
      "[LightGBM] [Warning] No further splits with positive gain, best gain: -inf\n",
      "[25]\tvalid_0's auc: 0.822902\n",
      "[LightGBM] [Warning] No further splits with positive gain, best gain: -inf\n",
      "[26]\tvalid_0's auc: 0.826134\n",
      "[LightGBM] [Warning] No further splits with positive gain, best gain: -inf\n",
      "[27]\tvalid_0's auc: 0.827948\n",
      "[LightGBM] [Warning] No further splits with positive gain, best gain: -inf\n",
      "[28]\tvalid_0's auc: 0.830102\n",
      "[LightGBM] [Warning] No further splits with positive gain, best gain: -inf\n",
      "[29]\tvalid_0's auc: 0.829138\n",
      "[LightGBM] [Warning] No further splits with positive gain, best gain: -inf\n",
      "[30]\tvalid_0's auc: 0.828515\n"
     ]
    }
   ],
   "source": [
    "train_set = lgbm.Dataset(x_train, label = y_train)\n",
    "valid_set = lgbm.Dataset(x_test, label = y_test)\n",
    "param = {'num_leaves': 30, 'max_depth': 5, 'min_data_in_leaf':10, 'objective': 'binary', 'metric': 'auc', 'verbose': 0}\n",
    "num_round = 30\n",
    "lgbm_model = lgbm.train(param, train_set, num_round, valid_sets=[valid_set])\n",
    "                         \n",
    "                         "
   ]
  },
  {
   "cell_type": "code",
   "execution_count": 12,
   "metadata": {
    "collapsed": true
   },
   "outputs": [
    {
     "data": {
      "text/plain": [
       "array([0.37955714, 0.58858223, 0.71676782, 0.81850721, 0.21951603,\n",
       "       0.71636229, 0.52006757, 0.26886469, 0.22682321, 0.08427046,\n",
       "       0.72136063, 0.8285458 , 0.67550211, 0.84804526, 0.09944497,\n",
       "       0.60749309, 0.51732387, 0.1337255 , 0.92830082, 0.7539373 ,\n",
       "       0.70136192, 0.09140805, 0.70804132, 0.23012369, 0.11665965,\n",
       "       0.88852341, 0.05123521, 0.06455599, 0.15880207, 0.73266816,\n",
       "       0.86440464, 0.30788042, 0.8284175 , 0.88609015, 0.55333134,\n",
       "       0.04866934, 0.76427835, 0.60984293, 0.11489764, 0.89686292,\n",
       "       0.88805995, 0.07243419, 0.48522943, 0.93918206, 0.19277097,\n",
       "       0.21253239, 0.11713952, 0.32726091, 0.47771799, 0.63728962,\n",
       "       0.72155783, 0.65238814, 0.83958901, 0.54191754, 0.10594608,\n",
       "       0.29263708, 0.70881289, 0.69081308, 0.66016352, 0.05640822,\n",
       "       0.32863382, 0.61728182, 0.31159886, 0.80783846, 0.70254195,\n",
       "       0.75924975, 0.05466468, 0.84547799, 0.87671575, 0.44090414,\n",
       "       0.30084663, 0.69000577, 0.86810398, 0.03707085, 0.82737239,\n",
       "       0.44107268, 0.04963388, 0.56859495, 0.61826734, 0.95351951,\n",
       "       0.20630211, 0.79900155, 0.3403825 , 0.07088683, 0.38175717,\n",
       "       0.179879  , 0.58315268, 0.67320387, 0.12648155, 0.49024325,\n",
       "       0.8848906 , 0.28737855, 0.20726064, 0.74313798, 0.78487358,\n",
       "       0.90109674, 0.56293249, 0.52343204, 0.78655684, 0.81751649,\n",
       "       0.19682721, 0.53593472, 0.80603227, 0.78839082, 0.8635168 ,\n",
       "       0.46115686, 0.03878443, 0.82037994, 0.48109165, 0.87115173,\n",
       "       0.53862748, 0.47179446, 0.04608592, 0.68372769, 0.21720388,\n",
       "       0.3798844 , 0.31996333, 0.55500675, 0.12698516, 0.0758849 ,\n",
       "       0.21423834, 0.800697  , 0.8187471 , 0.48050342, 0.84745824,\n",
       "       0.67108792, 0.0501328 , 0.15903581, 0.2602043 , 0.73545064,\n",
       "       0.36554742, 0.31417641, 0.66706507, 0.37888676, 0.61008413,\n",
       "       0.42979243, 0.69272698, 0.53279346, 0.0340223 , 0.62321799,\n",
       "       0.37276811, 0.03596058, 0.4550001 , 0.90213861, 0.44883247,\n",
       "       0.55832021, 0.74936629, 0.47156398, 0.78015602, 0.70246167,\n",
       "       0.69354347, 0.50239929, 0.8531225 , 0.23130309, 0.77635218,\n",
       "       0.35326347, 0.88057374, 0.36895275, 0.81522611, 0.51104051,\n",
       "       0.23562675, 0.866653  , 0.08534701, 0.73693166, 0.28637468,\n",
       "       0.62749521, 0.58505897, 0.80895255, 0.55996083, 0.64468572,\n",
       "       0.56459156, 0.51777443, 0.71438491, 0.83116704, 0.15119771,\n",
       "       0.38833265, 0.05565568, 0.14183863, 0.47917082, 0.70339902,\n",
       "       0.75236276, 0.79685294, 0.0718202 , 0.44847963, 0.42752595,\n",
       "       0.60864849, 0.64469458, 0.82504215, 0.80700842, 0.09447492,\n",
       "       0.54169136, 0.64149847, 0.8472232 , 0.1484713 , 0.86989307,\n",
       "       0.03785119, 0.04137643, 0.74240381, 0.36079437, 0.68049953,\n",
       "       0.73016902, 0.63212064, 0.44547161, 0.73903173, 0.19771014,\n",
       "       0.76560694, 0.60395943, 0.04145875, 0.35674361, 0.53308976,\n",
       "       0.50216383, 0.53407033, 0.5682364 , 0.66373383, 0.0360086 ,\n",
       "       0.49416416, 0.71713205, 0.87012247, 0.04507417, 0.85509208,\n",
       "       0.03486651, 0.09677155, 0.22759075, 0.81771113, 0.57192767,\n",
       "       0.28573913, 0.87565663, 0.69023585, 0.88820017, 0.15614486,\n",
       "       0.86585955, 0.9340901 , 0.05136469, 0.66315907, 0.92375942,\n",
       "       0.09290721, 0.0679663 , 0.69493407, 0.05091416, 0.03902875,\n",
       "       0.38552299, 0.55237229, 0.72207707, 0.31303889, 0.60713364,\n",
       "       0.05283468, 0.07000544, 0.95463699, 0.93338718, 0.84483362,\n",
       "       0.03522799, 0.06625881, 0.05733576, 0.10797668, 0.65846055,\n",
       "       0.04412949, 0.40183054, 0.79356385, 0.74617308, 0.85972598,\n",
       "       0.1974887 , 0.85600758, 0.69392768, 0.25618431, 0.91016737,\n",
       "       0.9593754 ])"
      ]
     },
     "execution_count": 12,
     "metadata": {},
     "output_type": "execute_result"
    }
   ],
   "source": [
    "lgbm_model.predict(x_test)\n"
   ]
  },
  {
   "cell_type": "code",
   "execution_count": null,
   "metadata": {},
   "outputs": [],
   "source": [
    "# import pandas as pd\n",
    "# import numpy as np\n",
    "# import seaborn as sns\n",
    "# import matplotlib.pyplot as plt\n",
    "# import datetime\n",
    "# import numpy as np\n",
    "# from scipy.stats import norm\n",
    "# import random\n",
    "# from sklearn import preprocessing\n",
    "# from sklearn.ensemble import RandomForestClassifier\n",
    "# from sklearn.linear_model import LogisticRegression\n",
    "# from sklearn import svm\n",
    "# from sklearn.model_selection import train_test_split\n",
    "# from sklearn.metrics import confusion_matrix, classification_report\n",
    "# import lightgbm as lgbm\n",
    "# from sklearn.neighbors import KNeighborsClassifier\n",
    "\n",
    "# data = list(pd.read_csv('LatencyTraining.csv')['LogReturns'])\n",
    "\n",
    "# # convert time series into training examples\n",
    "# windowsize=500\n",
    "# x = []\n",
    "# y = []\n",
    "# for i in range(len(data)-windowsize):\n",
    "#     x.append(data[i:i+windowsize])\n",
    "#     if data[i + windowsize] > data[i + windowsize - 1]:\n",
    "#         y.append(1)\n",
    "#     else:\n",
    "#         y.append(0)\n",
    "\n",
    "# # train model\n",
    "# x_train, x_test, y_train, y_test = train_test_split(x, y, test_size=0.2, shuffle=False)\n",
    "\n",
    "# train_set = lgbm.Dataset(x_train, label = y_train)\n",
    "# valid_set = lgbm.Dataset(x_test, label = y_test)\n",
    "# param = {'num_leaves': 30, 'max_depth': 5, 'min_data_in_leaf':10, 'objective': 'binary', 'metric': 'auc', 'verbose': 0}\n",
    "# num_round = 30\n",
    "# lgbm_model = lgbm.LGBMClassifier()\n",
    "# lgbm_model.fit(x_train, y_train)\n",
    "# lgbm_model.score(x_test, y_test)"
   ]
  }
 ],
 "metadata": {
  "kernelspec": {
   "display_name": "Python 3",
   "language": "python",
   "name": "python3"
  },
  "language_info": {
   "codemirror_mode": {
    "name": "ipython",
    "version": 3
   },
   "file_extension": ".py",
   "mimetype": "text/x-python",
   "name": "python",
   "nbconvert_exporter": "python",
   "pygments_lexer": "ipython3",
   "version": "3.7.4"
  }
 },
 "nbformat": 4,
 "nbformat_minor": 2
}
